{
  "nbformat": 4,
  "nbformat_minor": 0,
  "metadata": {
    "colab": {
      "provenance": []
    },
    "kernelspec": {
      "name": "python3",
      "display_name": "Python 3"
    },
    "language_info": {
      "name": "python"
    }
  },
  "cells": [
    {
      "cell_type": "code",
      "execution_count": 2,
      "metadata": {
        "colab": {
          "base_uri": "https://localhost:8080/"
        },
        "id": "P5n-7rNCWk7A",
        "outputId": "bbcf3d35-ca96-4ded-9e72-da26fc106f0b"
      },
      "outputs": [
        {
          "output_type": "stream",
          "name": "stdout",
          "text": [
            "Enter desired password length (minimum 8 characters): 9\n",
            "Include uppercase letters (y/n)? n\n",
            "Include lowercase letters (y/n)? y\n",
            "Include numbers (y/n)? n\n",
            "Include symbols (y/n)? y\n",
            "Your generated password is: sbi\"*m?_f\n"
          ]
        }
      ],
      "source": [
        "import random\n",
        "import string\n",
        "\n",
        "def generate_password(length, include_uppercase=True, include_lowercase=True, include_numbers=True, include_symbols=True):\n",
        "\n",
        "  characters = \"\"\n",
        "  if include_uppercase:\n",
        "    characters += string.ascii_uppercase\n",
        "  if include_lowercase:\n",
        "    characters += string.ascii_lowercase\n",
        "  if include_numbers:\n",
        "    characters += string.digits\n",
        "  if include_symbols:\n",
        "    characters += string.punctuation\n",
        "\n",
        "  min_chars = sum([include_uppercase, include_lowercase, include_numbers, include_symbols])\n",
        "  if min_chars > len(characters):\n",
        "    raise ValueError(\"Selected criteria require more character types than available.\")\n",
        "\n",
        "  password = ''.join(random.sample(characters, length))\n",
        "  return password\n",
        "\n",
        "def main():\n",
        "\n",
        "  while True:\n",
        "    try:\n",
        "      length = int(input(\"Enter desired password length (minimum 8 characters): \"))\n",
        "      if length < 8:\n",
        "        raise ValueError(\"Password length must be at least 8 characters.\")\n",
        "      break\n",
        "    except ValueError:\n",
        "      print(\"Invalid input. Please enter a positive integer for password length.\")\n",
        "\n",
        "  include_uppercase = input(\"Include uppercase letters (y/n)? \").lower() == 'y'\n",
        "  include_lowercase = input(\"Include lowercase letters (y/n)? \").lower() == 'y'\n",
        "  include_numbers = input(\"Include numbers (y/n)? \").lower() == 'y'\n",
        "  include_symbols = input(\"Include symbols (y/n)? \").lower() == 'y'\n",
        "\n",
        "  password = generate_password(length, include_uppercase, include_lowercase, include_numbers, include_symbols)\n",
        "  print(f\"Your generated password is: {password}\")\n",
        "\n",
        "if __name__ == \"__main__\":\n",
        "  main()"
      ]
    },
    {
      "cell_type": "code",
      "source": [],
      "metadata": {
        "id": "eeAqL3KyWs1u"
      },
      "execution_count": null,
      "outputs": []
    }
  ]
}